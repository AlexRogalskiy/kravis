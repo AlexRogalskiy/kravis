{
 "cells": [
  {
   "cell_type": "markdown",
   "metadata": {},
   "source": [
    "# Krangl Examples"
   ]
  },
  {
   "cell_type": "code",
   "execution_count": 1,
   "metadata": {},
   "outputs": [
    {
     "data": {
      "text/plain": [
       "true"
      ]
     },
     "execution_count": 1,
     "metadata": {},
     "output_type": "execute_result"
    }
   ],
   "source": [
    "// clean up ivy cache\n",
    "java.io.File(\"${System.getProperty(\"user.home\")}/.ivy2/cache/com.github.holgerbrandl/krangl/\").deleteRecursively()"
   ]
  },
  {
   "cell_type": "code",
   "execution_count": 2,
   "metadata": {},
   "outputs": [],
   "source": [
    "@file:Repository(\"*mavenLocal\")\n",
    "@file:DependsOn(\"com.github.holgerbrandl:krangl:0.17-SNAPSHOT\")"
   ]
  },
  {
   "cell_type": "code",
   "execution_count": 3,
   "metadata": {},
   "outputs": [
    {
     "data": {
      "text/html": [
       "<html><body><table><tr><th style=\"text-align:left\">Sepal.Length</th><th style=\"text-align:left\">Sepal.Width</th><th style=\"text-align:left\">Petal.Length</th><th style=\"text-align:left\">Petal.Width</th><th style=\"text-align:left\">Species</th></tr><tr><td style=\"text-align:left\" title=\"5.1\">5.1</td><td style=\"text-align:left\" title=\"3.5\">3.5</td><td style=\"text-align:left\" title=\"1.4\">1.4</td><td style=\"text-align:left\" title=\"0.2\">0.2</td><td style=\"text-align:left\" title=\"setosa\">setosa</td></tr><tr><td style=\"text-align:left\" title=\"4.9\">4.9</td><td style=\"text-align:left\" title=\"3.0\">3.0</td><td style=\"text-align:left\" title=\"1.4\">1.4</td><td style=\"text-align:left\" title=\"0.2\">0.2</td><td style=\"text-align:left\" title=\"setosa\">setosa</td></tr><tr><td style=\"text-align:left\" title=\"4.7\">4.7</td><td style=\"text-align:left\" title=\"3.2\">3.2</td><td style=\"text-align:left\" title=\"1.3\">1.3</td><td style=\"text-align:left\" title=\"0.2\">0.2</td><td style=\"text-align:left\" title=\"setosa\">setosa</td></tr><tr><td style=\"text-align:left\" title=\"4.6\">4.6</td><td style=\"text-align:left\" title=\"3.1\">3.1</td><td style=\"text-align:left\" title=\"1.5\">1.5</td><td style=\"text-align:left\" title=\"0.2\">0.2</td><td style=\"text-align:left\" title=\"setosa\">setosa</td></tr><tr><td style=\"text-align:left\" title=\"5.0\">5.0</td><td style=\"text-align:left\" title=\"3.6\">3.6</td><td style=\"text-align:left\" title=\"1.4\">1.4</td><td style=\"text-align:left\" title=\"0.2\">0.2</td><td style=\"text-align:left\" title=\"setosa\">setosa</td></tr><tr><td style=\"text-align:left\" title=\"5.4\">5.4</td><td style=\"text-align:left\" title=\"3.9\">3.9</td><td style=\"text-align:left\" title=\"1.7\">1.7</td><td style=\"text-align:left\" title=\"0.4\">0.4</td><td style=\"text-align:left\" title=\"setosa\">setosa</td></tr></table><p>... with 144 more rows. Shape: 150 x 5. \n",
       "</p></body></html>"
      ]
     },
     "execution_count": 3,
     "metadata": {},
     "output_type": "execute_result"
    }
   ],
   "source": [
    "irisData"
   ]
  },
  {
   "cell_type": "code",
   "execution_count": 4,
   "metadata": {},
   "outputs": [
    {
     "data": {
      "text/html": [
       "<html><body><table><tr><th style=\"text-align:left\">Name</th><th style=\"text-align:left\">Type</th><th style=\"text-align:left\">Values</th></tr></tr><td style=\"text-align:left\">Sepal.Length</td><td style=\"text-align:left\">[Dbl]</td><td style=\"text-align:left\">5.1, 4.9, 4.7, 4.6, 5, 5.4, 4.6, 5, 4.4, 4.9, 5.4, 4.8, 4.8, 4.3, 5.8, 5.7, 5.4, 5.1, 5.7, 5.1, 5.4,...</td></tr></tr><td style=\"text-align:left\">Sepal.Width</td><td style=\"text-align:left\">[Dbl]</td><td style=\"text-align:left\">3.5, 3, 3.2, 3.1, 3.6, 3.9, 3.4, 3.4, 2.9, 3.1, 3.7, 3.4, 3, 3, 4, 4.4, 3.9, 3.5, 3.8, 3.8, 3.4, 3.7...</td></tr></tr><td style=\"text-align:left\">Petal.Length</td><td style=\"text-align:left\">[Dbl]</td><td style=\"text-align:left\">1.4, 1.4, 1.3, 1.5, 1.4, 1.7, 1.4, 1.5, 1.4, 1.5, 1.5, 1.6, 1.4, 1.1, 1.2, 1.5, 1.3, 1.4, 1.7, 1.5, ...</td></tr></tr><td style=\"text-align:left\">Petal.Width</td><td style=\"text-align:left\">[Dbl]</td><td style=\"text-align:left\">0.2, 0.2, 0.2, 0.2, 0.2, 0.4, 0.3, 0.2, 0.2, 0.1, 0.2, 0.2, 0.1, 0.1, 0.2, 0.4, 0.4, 0.3, 0.3, 0.3, ...</td></tr></tr><td style=\"text-align:left\">Species</td><td style=\"text-align:left\">[Str]</td><td style=\"text-align:left\">setosa, setosa, setosa, setosa, setosa, setosa, setosa, setosa, setosa, setosa, setosa, setosa, seto...</td></tr></table>DataFrame with 150 observations\n",
       "</body></html>"
      ]
     },
     "execution_count": 4,
     "metadata": {},
     "output_type": "execute_result"
    }
   ],
   "source": [
    "irisData.schema()"
   ]
  },
  {
   "cell_type": "code",
   "execution_count": 5,
   "metadata": {
    "scrolled": true
   },
   "outputs": [
    {
     "data": {
      "text/html": [
       "<html><body><table><tr><th style=\"text-align:left\">name</th><th style=\"text-align:left\">genus</th><th style=\"text-align:left\">vore</th><th style=\"text-align:left\">order</th><th style=\"text-align:left\">conservation</th><th style=\"text-align:left\">sleep_total</th><th style=\"text-align:left\">sleep_rem</th><th style=\"text-align:left\">sleep_cycle</th><th style=\"text-align:left\">awake</th><th style=\"text-align:left\">brainwt</th><th style=\"text-align:left\">bodywt</th></tr><tr><td style=\"text-align:left\" title=\"Cheetah\">Cheetah</td><td style=\"text-align:left\" title=\"Acinonyx\">Acinonyx</td><td style=\"text-align:left\" title=\"carni\">carni</td><td style=\"text-align:left\" title=\"Carnivora\">Carnivora</td><td style=\"text-align:left\" title=\"lc\">lc</td><td style=\"text-align:left\" title=\"12.1\">12.1</td><td style=\"text-align:left\" title=\"null\">null</td><td style=\"text-align:left\" title=\"null\">null</td><td style=\"text-align:left\" title=\"11.9\">11.9</td><td style=\"text-align:left\" title=\"null\">null</td><td style=\"text-align:left\" title=\"50.0\">50.0</td></tr><tr><td style=\"text-align:left\" title=\"Owl monkey\">Owl monkey</td><td style=\"text-align:left\" title=\"Aotus\">Aotus</td><td style=\"text-align:left\" title=\"omni\">omni</td><td style=\"text-align:left\" title=\"Primates\">Primates</td><td style=\"text-align:left\" title=\"null\">null</td><td style=\"text-align:left\" title=\"17.0\">17.0</td><td style=\"text-align:left\" title=\"1.8\">1.8</td><td style=\"text-align:left\" title=\"null\">null</td><td style=\"text-align:left\" title=\"7.0\">7.0</td><td style=\"text-align:left\" title=\"0.0155\">0.0155</td><td style=\"text-align:left\" title=\"0.48\">0.48</td></tr><tr><td style=\"text-align:left\" title=\"Mountain beaver\">Mountain beaver</td><td style=\"text-align:left\" title=\"Aplodontia\">Aplodontia</td><td style=\"text-align:left\" title=\"herbi\">herbi</td><td style=\"text-align:left\" title=\"Rodentia\">Rodentia</td><td style=\"text-align:left\" title=\"nt\">nt</td><td style=\"text-align:left\" title=\"14.4\">14.4</td><td style=\"text-align:left\" title=\"2.4\">2.4</td><td style=\"text-align:left\" title=\"null\">null</td><td style=\"text-align:left\" title=\"9.6\">9.6</td><td style=\"text-align:left\" title=\"null\">null</td><td style=\"text-align:left\" title=\"1.35\">1.35</td></tr><tr><td style=\"text-align:left\" title=\"Greater short-tailed shrew\">Greater short-tailed shrew</td><td style=\"text-align:left\" title=\"Blarina\">Blarina</td><td style=\"text-align:left\" title=\"omni\">omni</td><td style=\"text-align:left\" title=\"Soricomorpha\">Soricomorpha</td><td style=\"text-align:left\" title=\"lc\">lc</td><td style=\"text-align:left\" title=\"14.9\">14.9</td><td style=\"text-align:left\" title=\"2.3\">2.3</td><td style=\"text-align:left\" title=\"0.133333333\">0.133333333</td><td style=\"text-align:left\" title=\"9.1\">9.1</td><td style=\"text-align:left\" title=\"2.9E-4\">2.9E-4</td><td style=\"text-align:left\" title=\"0.019\">0.019</td></tr><tr><td style=\"text-align:left\" title=\"Cow\">Cow</td><td style=\"text-align:left\" title=\"Bos\">Bos</td><td style=\"text-align:left\" title=\"herbi\">herbi</td><td style=\"text-align:left\" title=\"Artiodactyla\">Artiodactyla</td><td style=\"text-align:left\" title=\"domesticated\">domesticated</td><td style=\"text-align:left\" title=\"4.0\">4.0</td><td style=\"text-align:left\" title=\"0.7\">0.7</td><td style=\"text-align:left\" title=\"0.666666667\">0.666666667</td><td style=\"text-align:left\" title=\"20.0\">20.0</td><td style=\"text-align:left\" title=\"0.423\">0.423</td><td style=\"text-align:left\" title=\"600.0\">600.0</td></tr><tr><td style=\"text-align:left\" title=\"Three-toed sloth\">Three-toed sloth</td><td style=\"text-align:left\" title=\"Bradypus\">Bradypus</td><td style=\"text-align:left\" title=\"herbi\">herbi</td><td style=\"text-align:left\" title=\"Pilosa\">Pilosa</td><td style=\"text-align:left\" title=\"null\">null</td><td style=\"text-align:left\" title=\"14.4\">14.4</td><td style=\"text-align:left\" title=\"2.2\">2.2</td><td style=\"text-align:left\" title=\"0.766666667\">0.766666667</td><td style=\"text-align:left\" title=\"9.6\">9.6</td><td style=\"text-align:left\" title=\"null\">null</td><td style=\"text-align:left\" title=\"3.85\">3.85</td></tr></table><p>... with 77 more rows. Shape: 83 x 11. \n",
       "</p></body></html>"
      ]
     },
     "execution_count": 5,
     "metadata": {},
     "output_type": "execute_result"
    }
   ],
   "source": [
    "sleepData"
   ]
  },
  {
   "cell_type": "code",
   "execution_count": 6,
   "metadata": {},
   "outputs": [
    {
     "data": {
      "text/html": [
       "<html><body><table><tr><th style=\"text-align:left\">name</th><th style=\"text-align:left\">genus</th><th style=\"text-align:left\">vore</th><th style=\"text-align:left\">order</th><th style=\"text-align:left\">conservation</th><th style=\"text-align:left\">sleep_total</th><th style=\"text-align:left\">sleep_rem</th><th style=\"text-align:left\">sleep_cycle</th><th style=\"text-align:left\">awake</th><th style=\"text-align:left\">brainwt</th><th style=\"text-align:left\">bodywt</th></tr><tr><td style=\"text-align:left\" title=\"Cheetah\">Cheetah</td><td style=\"text-align:left\" title=\"Acinonyx\">Acinonyx</td><td style=\"text-align:left\" title=\"carni\">carni</td><td style=\"text-align:left\" title=\"Carnivora\">Carnivora</td><td style=\"text-align:left\" title=\"lc\">lc</td><td style=\"text-align:left\" title=\"12.1\">12.1</td><td style=\"text-align:left\" title=\"null\">null</td><td style=\"text-align:left\" title=\"null\">null</td><td style=\"text-align:left\" title=\"11.9\">11.9</td><td style=\"text-align:left\" title=\"null\">null</td><td style=\"text-align:left\" title=\"50.0\">50.0</td></tr><tr><td style=\"text-align:left\" title=\"Owl monkey\">Owl monkey</td><td style=\"text-align:left\" title=\"Aotus\">Aotus</td><td style=\"text-align:left\" title=\"omni\">omni</td><td style=\"text-align:left\" title=\"Primates\">Primates</td><td style=\"text-align:left\" title=\"null\">null</td><td style=\"text-align:left\" title=\"17.0\">17.0</td><td style=\"text-align:left\" title=\"1.8\">1.8</td><td style=\"text-align:left\" title=\"null\">null</td><td style=\"text-align:left\" title=\"7.0\">7.0</td><td style=\"text-align:left\" title=\"0.0155\">0.0155</td><td style=\"text-align:left\" title=\"0.48\">0.48</td></tr><tr><td style=\"text-align:left\" title=\"Mountain beaver\">Mountain beaver</td><td style=\"text-align:left\" title=\"Aplodontia\">Aplodontia</td><td style=\"text-align:left\" title=\"herbi\">herbi</td><td style=\"text-align:left\" title=\"Rodentia\">Rodentia</td><td style=\"text-align:left\" title=\"nt\">nt</td><td style=\"text-align:left\" title=\"14.4\">14.4</td><td style=\"text-align:left\" title=\"2.4\">2.4</td><td style=\"text-align:left\" title=\"null\">null</td><td style=\"text-align:left\" title=\"9.6\">9.6</td><td style=\"text-align:left\" title=\"null\">null</td><td style=\"text-align:left\" title=\"1.35\">1.35</td></tr><tr><td style=\"text-align:left\" title=\"Greater short-tailed shrew\">Greater short-tailed shrew</td><td style=\"text-align:left\" title=\"Blarina\">Blarina</td><td style=\"text-align:left\" title=\"omni\">omni</td><td style=\"text-align:left\" title=\"Soricomorpha\">Soricomorpha</td><td style=\"text-align:left\" title=\"lc\">lc</td><td style=\"text-align:left\" title=\"14.9\">14.9</td><td style=\"text-align:left\" title=\"2.3\">2.3</td><td style=\"text-align:left\" title=\"0.133333333\">0.133333333</td><td style=\"text-align:left\" title=\"9.1\">9.1</td><td style=\"text-align:left\" title=\"2.9E-4\">2.9E-4</td><td style=\"text-align:left\" title=\"0.019\">0.019</td></tr><tr><td style=\"text-align:left\" title=\"Cow\">Cow</td><td style=\"text-align:left\" title=\"Bos\">Bos</td><td style=\"text-align:left\" title=\"herbi\">herbi</td><td style=\"text-align:left\" title=\"Artiodactyla\">Artiodactyla</td><td style=\"text-align:left\" title=\"domesticated\">domesticated</td><td style=\"text-align:left\" title=\"4.0\">4.0</td><td style=\"text-align:left\" title=\"0.7\">0.7</td><td style=\"text-align:left\" title=\"0.666666667\">0.666666667</td><td style=\"text-align:left\" title=\"20.0\">20.0</td><td style=\"text-align:left\" title=\"0.423\">0.423</td><td style=\"text-align:left\" title=\"600.0\">600.0</td></tr><tr><td style=\"text-align:left\" title=\"Three-toed sloth\">Three-toed sloth</td><td style=\"text-align:left\" title=\"Bradypus\">Bradypus</td><td style=\"text-align:left\" title=\"herbi\">herbi</td><td style=\"text-align:left\" title=\"Pilosa\">Pilosa</td><td style=\"text-align:left\" title=\"null\">null</td><td style=\"text-align:left\" title=\"14.4\">14.4</td><td style=\"text-align:left\" title=\"2.2\">2.2</td><td style=\"text-align:left\" title=\"0.766666667\">0.766666667</td><td style=\"text-align:left\" title=\"9.6\">9.6</td><td style=\"text-align:left\" title=\"null\">null</td><td style=\"text-align:left\" title=\"3.85\">3.85</td></tr></table><p>... with 77 more rows. Shape: 83 x 11. \n",
       "Grouped by genus [77]\n",
       "</p></body></html>"
      ]
     },
     "execution_count": 6,
     "metadata": {},
     "output_type": "execute_result"
    }
   ],
   "source": [
    "sleepData.groupBy(\"genus\")"
   ]
  },
  {
   "cell_type": "code",
   "execution_count": 10,
   "metadata": {},
   "outputs": [
    {
     "data": {
      "text/html": [
       "   <div id=\"h00BX0\"></div>\n",
       "   <script type=\"text/javascript\" data-lets-plot-script=\"library\">\n",
       "       if(!window.letsPlotCallQueue) {\n",
       "           window.letsPlotCallQueue = [];\n",
       "       }; \n",
       "       window.letsPlotCall = function(f) {\n",
       "           window.letsPlotCallQueue.push(f);\n",
       "       };\n",
       "       (function() {\n",
       "           var script = document.createElement(\"script\");\n",
       "           script.type = \"text/javascript\";\n",
       "           script.src = \"https://cdn.jsdelivr.net/gh/JetBrains/lets-plot@v2.0.4/js-package/distr/lets-plot.min.js\";\n",
       "           script.onload = function() {\n",
       "               window.letsPlotCall = function(f) {f();};\n",
       "               window.letsPlotCallQueue.forEach(function(f) {f();});\n",
       "               window.letsPlotCallQueue = [];\n",
       "               \n",
       "               \n",
       "           };\n",
       "           script.onerror = function(event) {\n",
       "               window.letsPlotCall = function(f) {};\n",
       "               window.letsPlotCallQueue = [];\n",
       "               var div = document.createElement(\"div\");\n",
       "               div.style.color = 'darkred';\n",
       "               div.textContent = 'Error loading Lets-Plot JS';\n",
       "               document.getElementById(\"h00BX0\").appendChild(div);\n",
       "           };\n",
       "           var e = document.getElementById(\"h00BX0\");\n",
       "           e.appendChild(script);\n",
       "       })();\n",
       "   </script>"
      ]
     },
     "metadata": {},
     "output_type": "display_data"
    }
   ],
   "source": [
    "%use lets-plot"
   ]
  },
  {
   "cell_type": "code",
   "execution_count": 11,
   "metadata": {},
   "outputs": [
    {
     "data": {
      "text/html": [
       "<html><body><table><tr><th style=\"text-align:left\">Sepal.Length</th><th style=\"text-align:left\">Sepal.Width</th><th style=\"text-align:left\">Petal.Length</th><th style=\"text-align:left\">Petal.Width</th><th style=\"text-align:left\">Species</th></tr><tr><td style=\"text-align:left\" title=\"5.1\">5.1</td><td style=\"text-align:left\" title=\"3.5\">3.5</td><td style=\"text-align:left\" title=\"1.4\">1.4</td><td style=\"text-align:left\" title=\"0.2\">0.2</td><td style=\"text-align:left\" title=\"setosa\">setosa</td></tr><tr><td style=\"text-align:left\" title=\"4.9\">4.9</td><td style=\"text-align:left\" title=\"3.0\">3.0</td><td style=\"text-align:left\" title=\"1.4\">1.4</td><td style=\"text-align:left\" title=\"0.2\">0.2</td><td style=\"text-align:left\" title=\"setosa\">setosa</td></tr><tr><td style=\"text-align:left\" title=\"4.7\">4.7</td><td style=\"text-align:left\" title=\"3.2\">3.2</td><td style=\"text-align:left\" title=\"1.3\">1.3</td><td style=\"text-align:left\" title=\"0.2\">0.2</td><td style=\"text-align:left\" title=\"setosa\">setosa</td></tr><tr><td style=\"text-align:left\" title=\"4.6\">4.6</td><td style=\"text-align:left\" title=\"3.1\">3.1</td><td style=\"text-align:left\" title=\"1.5\">1.5</td><td style=\"text-align:left\" title=\"0.2\">0.2</td><td style=\"text-align:left\" title=\"setosa\">setosa</td></tr><tr><td style=\"text-align:left\" title=\"5.0\">5.0</td><td style=\"text-align:left\" title=\"3.6\">3.6</td><td style=\"text-align:left\" title=\"1.4\">1.4</td><td style=\"text-align:left\" title=\"0.2\">0.2</td><td style=\"text-align:left\" title=\"setosa\">setosa</td></tr><tr><td style=\"text-align:left\" title=\"5.4\">5.4</td><td style=\"text-align:left\" title=\"3.9\">3.9</td><td style=\"text-align:left\" title=\"1.7\">1.7</td><td style=\"text-align:left\" title=\"0.4\">0.4</td><td style=\"text-align:left\" title=\"setosa\">setosa</td></tr></table><p>... with 144 more rows. Shape: 150 x 5. \n",
       "</p></body></html>"
      ]
     },
     "execution_count": 11,
     "metadata": {},
     "output_type": "execute_result"
    }
   ],
   "source": [
    "// use convencience wrapper\n",
    "\n",
    "irisData"
   ]
  },
  {
   "cell_type": "code",
   "execution_count": 12,
   "metadata": {},
   "outputs": [
    {
     "data": {
      "text/html": [
       "   <div id=\"5okOt3\"></div>\n",
       "   <script type=\"text/javascript\" data-lets-plot-script=\"plot\">\n",
       "       (function() {\n",
       "           var plotSpec={\n",
       "\"mapping\":{\n",
       "\"color\":\"Species\",\n",
       "\"x\":\"Sepal.Width\",\n",
       "\"y\":\"Sepal.Length\"\n",
       "},\n",
       "\"data\":{\n",
       "},\n",
       "\"kind\":\"plot\",\n",
       "\"scales\":[],\n",
       "\"layers\":[{\n",
       "\"mapping\":{\n",
       "},\n",
       "\"stat\":\"smooth\",\n",
       "\"data\":{\n",
       "\"..ymax..\":[4.442004280372023,4.455805356834796,4.469617854804949,4.4834425476455415,4.497280277776297,4.511131964256149,4.524998611340317,4.53888131815241,4.552781289633816,4.566699848957581,4.5806384516228125,4.594598701478517,4.608582368963303,4.6225914118895295,4.6366279991476,4.650694537757685,4.664793703751366,4.6789284774227555,4.69310218354433,4.707318537191616,4.721581695854604,4.735896318519366,4.750267632361475,4.764701507575268,4.779204540629815,4.793784145838093,4.808448654475842,4.823207419694861,4.838070924025326,4.85305088422278,4.868160345465698,4.883413753377133,4.898826988083806,4.914417339835791,4.930203401285708,4.946204848622647,4.962442084271112,4.978935720196958,4.995705895344823,5.012771444517839,5.030148967545986,5.047851881317547,5.065889563669459,5.084266706252519,5.1029829755102165,5.122033037120148,5.141406939831635,5.161090796392908,5.181067658485307,5.201318468230471,5.221822979930398,5.242560573717282,5.26351091670031,5.284654457936874,5.305972766133693,5.327448732288905,5.3490666649101035,5.370812305379366,5.392672787838326,5.414636563448873,5.43669330422201,5.458833797432525,5.48104983820818,5.503334125231572,5.5256801625387615,5.548082169016082,5.570534996256015,5.593034054820273,5.615575248580205,5.638154916589391,5.660769781837763,5.683416906202252,5.7060936509193025,5.728797641940821,5.751526739585467,5.774279011953201,5.797052711628023,5.8198462552485974,5.842658205577607,5.865487255746967,5.60701126149231,5.6156799452325465,5.624371461023019,5.633087242461592,5.641828839792776,5.650597931316233,5.659396336059023,5.668226027860045,5.677089151031756,5.685988037781782,5.694925227595614,5.7039034888004085,5.712925842548604,5.721995589477312,5.7311163393139255,5.740292043707736,5.749527032568652,5.758826054183068,5.7681943193477965,5.777637549708187,5.787162030396014,5.796774666923367,5.806483046084463,5.8162955003274615,5.82622117465938,5.8362700946115,5.8464532330918475,5.856782573058562,5.867271161845418,5.877933151658404,5.888783819273881,5.89983955639052,5.911117820582255,5.922637035630684,5.934416429562088,5.9464757994642685,5.9588351946633855,5.971514514607849,5.984533025125434,5.997908806434585,6.011658157578333,6.025794993202867,6.040330277552698,6.055271544700096,6.070622551353085,6.086383098350914,6.102549040217809,6.11911248172463,6.136062140190064,6.153383836063659,6.171061064838053,6.18907560140603,6.207408092709484,6.226038603821088,6.244947093950114,6.264113810053214,6.2835195952309935,6.303146116152641,6.322976018273502,6.342993019915028,6.363181956882096,6.383528788747293,6.404020576714435,6.424645441451097,6.445392507704889,6.466251841044443,6.487214380774015,6.508271871989299,6.5294167988696,6.550642320618415,6.571942210943769,6.5933108015827155,6.614742930094216,6.636233891947565,6.657779396799791,6.679375528768985,6.701018710458769,6.7227056704619566,6.7444334140620885,6.766199196853553,6.316294905844981,6.325044198860149,6.33383230186149,6.342661987709318,6.351536285824408,6.360458510651676,6.36943229367805,6.3784616194678705,6.387550866233389,6.396704851514348,6.405928883597117,6.415228819357109,6.424611129252833,6.434082970228311,6.443652267281168,6.453327804410406,6.463119325547925,6.473037645870278,6.483094773539848,6.493304041383009,6.50368024720651,6.514239800296846,6.52500087004113,6.535983530446395,6.5472098915224315,6.558704204977314,6.570492927492791,6.582604720203694,6.595070358371737,6.6079225214642,6.621195432225789,6.634924315623073,6.64914465675782,6.663891252770496,6.679197078117893,6.695092014052527,6.7116015273470175,6.728745412959277,6.746536731386183,6.764981065991167,6.784076195327208,6.803812224243196,6.82417215611941,6.845132831290713,6.866666116464911,6.888740213774612,6.91132096562652,6.934373056404464,6.95786104537306,6.9817501984892205,7.006007114578998,7.030600160919946,7.055499744640324,7.080678450952092,7.106111079067126,7.131774603611157,7.157648084956252,7.1837125471764205,7.209950837911348,7.236347480606807,7.262888526486558,7.289561411177872,7.316354819079304,7.3432585572210325,7.370263439421857,7.397361180900277,7.424544303073372,7.451806048015013,7.479140301897172,7.506541526669188,7.534004699213799,7.561525257236736,7.589099051185399,7.616722301542459,7.644391560895812,7.672103680243111,7.699855779044414,7.727645218588876,7.755469578289843,7.783326634566976],\n",
       "\"Sepal.Length\":[4.227127599136461,4.245482389084093,4.263837179031725,4.282191968979358,4.300546758926991,4.3189015488746225,4.337256338822256,4.355611128769889,4.373965918717521,4.392320708665153,4.410675498612786,4.429030288560418,4.44738507850805,4.4657398684556835,4.484094658403317,4.502449448350948,4.520804238298581,4.539159028246214,4.557513818193846,4.575868608141478,4.594223398089111,4.612578188036744,4.630932977984376,4.649287767932009,4.667642557879642,4.685997347827273,4.704352137774906,4.722706927722539,4.7410617176701715,4.759416507617804,4.777771297565437,4.796126087513069,4.814480877460701,4.832835667408334,4.851190457355967,4.8695452473035985,4.887900037251232,4.906254827198865,4.924609617146496,4.942964407094129,4.961319197041762,4.979673986989394,4.998028776937026,5.0163835668846595,5.034738356832292,5.053093146779924,5.071447936727557,5.08980272667519,5.108157516622822,5.126512306570454,5.144867096518087,5.16322188646572,5.181576676413352,5.199931466360985,5.218286256308618,5.236641046256249,5.254995836203882,5.273350626151514,5.291705416099147,5.31006020604678,5.328414995994413,5.346769785942045,5.365124575889677,5.38347936583731,5.401834155784942,5.4201889457325745,5.4385437356802075,5.456898525627841,5.475253315575473,5.493608105523105,5.511962895470738,5.53031768541837,5.548672475366002,5.5670272653136355,5.5853820552612685,5.6037368452089,5.622091635156533,5.640446425104165,5.658801215051797,5.67715600499943,5.2698901554404145,5.285220646684594,5.300551137928773,5.315881629172951,5.331212120417131,5.34654261166131,5.36187310290549,5.377203594149668,5.392534085393848,5.407864576638027,5.423195067882206,5.4385255591263855,5.453856050370565,5.469186541614744,5.484517032858923,5.499847524103102,5.515178015347281,5.53050850659146,5.54583899783564,5.561169489079818,5.576499980323998,5.591830471568176,5.607160962812356,5.622491454056535,5.637821945300715,5.653152436544893,5.668482927789073,5.683813419033251,5.6991439102774315,5.714474401521611,5.72980489276579,5.745135384009968,5.760465875254148,5.7757963664983265,5.791126857742507,5.806457348986685,5.821787840230865,5.837118331475043,5.852448822719223,5.8677793139634025,5.883109805207582,5.89844029645176,5.91377078769594,5.929101278940118,5.944431770184298,5.959762261428477,5.975092752672657,5.990423243916835,6.005753735161015,6.021084226405193,6.036414717649373,6.051745208893552,6.067075700137732,6.08240619138191,6.09773668262609,6.113067173870268,6.1283976651144485,6.143728156358627,6.159058647602807,6.174389138846985,6.189719630091165,6.2050501213353435,6.220380612579524,6.235711103823702,6.251041595067882,6.26637208631206,6.28170257755624,6.2970330688004195,6.312363560044599,6.327694051288777,6.343024542532956,6.358355033777135,6.373685525021315,6.389016016265494,6.404346507509674,6.419676998753852,6.435007489998032,6.45033798124221,6.46566847248639,6.480998963730569,5.890212315058278,5.908471241168028,5.9267301672777775,5.944989093387527,5.963248019497277,5.981506945607027,5.999765871716775,6.018024797826525,6.036283723936275,6.0545426500460255,6.072801576155775,6.091060502265524,6.109319428375274,6.127578354485024,6.1458372805947725,6.164096206704523,6.182355132814273,6.200614058924023,6.218872985033772,6.237131911143521,6.255390837253271,6.2736497633630215,6.29190868947277,6.31016761558252,6.32842654169227,6.34668546780202,6.364944393911769,6.383203320021519,6.401462246131269,6.419721172241019,6.437980098350767,6.456239024460517,6.474497950570267,6.492756876680017,6.511015802789767,6.529274728899516,6.547533655009266,6.565792581119016,6.584051507228764,6.6023104333385145,6.620569359448265,6.638828285558015,6.657087211667764,6.675346137777513,6.693605063887263,6.711863989997013,6.730122916106762,6.748381842216512,6.766640768326262,6.784899694436012,6.803158620545761,6.8214175466555105,6.839676472765261,6.857935398875011,6.87619432498476,6.894453251094509,6.912712177204259,6.930971103314009,6.949230029423759,6.967488955533508,6.985747881643258,7.004006807753008,7.022265733862757,7.040524659972506,7.0587835860822565,7.077042512192007,7.095301438301756,7.113560364411505,7.131819290521255,7.150078216631005,7.1683371427407545,7.186596068850504,7.204854994960254,7.223113921070004,7.241372847179754,7.259631773289502,7.2778906993992525,7.296149625509003,7.314408551618752,7.332667477728501],\n",
       "\"..ymin..\":[4.012250917900898,4.03515942133339,4.058056503258501,4.080941390313175,4.103813240077685,4.126671133493096,4.149514066304194,4.172340939387367,4.195150547801226,4.217941568372725,4.24071254560276,4.26346187564232,4.286187788052798,4.3088883250218375,4.331561317659033,4.3542043589442105,4.376814772845796,4.399389579069672,4.421925452843363,4.44441867909134,4.466865100323619,4.489260057554121,4.511598323607276,4.53387402828875,4.556080575129469,4.578210549816453,4.600255621073971,4.6222064357502175,4.644052511315017,4.665782131012827,4.687382249665175,4.708838421649005,4.730134766837597,4.751253994980877,4.772177513426226,4.79288564598455,4.813357990231351,4.833573934200771,4.853513338948169,4.873157369670419,4.892489426537538,4.911496092661242,4.930167990204594,4.9485004275168,4.966493738154367,4.9841532564397,5.001488933623479,5.018514656957472,5.0352473747603375,5.051706144910438,5.067911213105777,5.083883199214157,5.099642436126394,5.115208474785096,5.130599746483543,5.145833360223594,5.160925007497661,5.175888946923663,5.190738044359967,5.205483848644686,5.220136687766815,5.234705774451565,5.249199313571174,5.263624606443048,5.277988149031123,5.292295722449067,5.3065524751044,5.320762996435408,5.3349313825707405,5.349061294456819,5.363156009103713,5.377218464634488,5.391251299812702,5.40525688868645,5.41923737093707,5.433194678464599,5.447130558685043,5.461046594959733,5.474944224525988,5.488824754251894,4.932769049388519,4.954761348136641,4.976730814834527,4.99867601588431,5.020595401041486,5.0424872920063875,5.064349869751956,5.086181160439291,5.10797901975594,5.129741115494272,5.151464908168799,5.173147629452362,5.194786258192526,5.216377493752176,5.2379177264039205,5.259403004498468,5.2808289981259104,5.3021909589998515,5.323483676323483,5.344701428451449,5.365837930251982,5.386886276212985,5.407838879540249,5.428687407785608,5.44942271594205,5.470034778478286,5.490512622486299,5.510844265007941,5.531016658709445,5.551015651384818,5.570825966257699,5.590431211629416,5.609813929926041,5.628955697365969,5.647837285922925,5.666438898509101,5.684740485798344,5.702722148342238,5.7203646203130125,5.73764982149222,5.75456145283683,5.771085599700653,5.787211297839182,5.802931013180141,5.818240989015512,5.83314142450604,5.847636465127504,5.86173400610904,5.875445330131966,5.888784616746728,5.901768370460694,5.914414816381074,5.92674330756598,5.938773778942732,5.950526271302066,5.962020537687323,5.9732757349979035,5.984310196564612,5.995141276932111,6.005785257778943,6.016257303300234,6.026571453923394,6.036740648444612,6.046776766196307,6.056690682430875,6.066492331579678,6.076190774338466,6.08579426561154,6.095310321219597,6.104745781959139,6.114106874122143,6.123399265971555,6.132628119948414,6.141798140583422,6.1509136182195565,6.159978468738719,6.1689962695372955,6.177970292022464,6.186903530910692,6.195798730607584,5.464129724271575,5.491898283475908,5.519628032694065,5.547316199065735,5.574959753170146,5.602555380562378,5.630099449755501,5.65758797618518,5.685016581639162,5.712380448577703,5.739674268714433,5.766892185173939,5.794027727497715,5.821073738741737,5.848022293908377,5.87486460899864,5.90159094008062,5.928190471977768,5.9546511965276965,5.980959780904033,6.007101427300033,6.033059726429197,6.0588165089044095,6.084351700718645,6.109643191862109,6.134666730626726,6.159395860330748,6.183801919839343,6.2078541338908,6.2315198230178375,6.254764764475746,6.277553733297961,6.299851244382714,6.321622500589539,6.3428345274616404,6.363457443746505,6.383465782671514,6.402839749278755,6.421566283071346,6.439639800685862,6.457062523569321,6.473844346872833,6.490002267216118,6.505559444264313,6.520544011309616,6.534987766219415,6.5489248665870035,6.5623906280285595,6.575420491279464,6.588049190382804,6.600310126512524,6.6122349323910745,6.623853200890197,6.635192346797929,6.646277570902394,6.657131898577862,6.667776269452267,6.678229659451598,6.688509220936169,6.6986304304602085,6.708607236799958,6.718452204328144,6.72817664864621,6.73779076272398,6.747303732742656,6.756723843483736,6.76605857353014,6.775314680807997,6.784498279145338,6.793614906592823,6.80266958626771,6.811666880464271,6.820610938735109,6.829505540597549,6.838354133463696,6.847159866335894,6.855925619754091,6.864654032429129,6.87334752494766,6.8820083208900265],\n",
       "\"Sepal.Width\":[2.3,2.3265822784810126,2.353164556962025,2.3797468354430378,2.4063291139240506,2.432911392405063,2.4594936708860757,2.4860759493670885,2.5126582278481013,2.5392405063291137,2.5658227848101265,2.5924050632911393,2.6189873417721516,2.6455696202531644,2.6721518987341772,2.6987341772151896,2.7253164556962024,2.751898734177215,2.7784810126582276,2.8050632911392404,2.831645569620253,2.858227848101266,2.8848101265822783,2.911392405063291,2.937974683544304,2.9645569620253163,2.991139240506329,3.017721518987342,3.0443037974683547,3.070886075949367,3.09746835443038,3.124050632911392,3.150632911392405,3.1772151898734178,3.2037974683544306,3.230379746835443,3.2569620253164557,3.2835443037974685,3.310126582278481,3.3367088607594937,3.3632911392405065,3.3898734177215193,3.4164556962025316,3.4430379746835444,3.469620253164557,3.4962025316455696,3.5227848101265824,3.549367088607595,3.575949367088608,3.6025316455696204,3.629113924050633,3.6556962025316455,3.6822784810126583,3.708860759493671,3.735443037974684,3.7620253164556963,3.788607594936709,3.8151898734177214,3.8417721518987342,3.868354430379747,3.89493670886076,3.9215189873417726,3.948101265822785,3.9746835443037978,4.00126582278481,4.027848101265823,4.054430379746836,4.0810126582278485,4.107594936708861,4.134177215189874,4.160759493670886,4.187341772151899,4.213924050632912,4.2405063291139244,4.267088607594937,4.293670886075949,4.320253164556963,4.346835443037975,4.3734177215189876,4.4,2.0,2.017721518987342,2.0354430379746837,2.053164556962025,2.070886075949367,2.088607594936709,2.1063291139240508,2.124050632911392,2.141772151898734,2.159493670886076,2.1772151898734178,2.1949367088607596,2.212658227848101,2.230379746835443,2.248101265822785,2.2658227848101267,2.283544303797468,2.30126582278481,2.318987341772152,2.3367088607594937,2.3544303797468356,2.372151898734177,2.389873417721519,2.4075949367088607,2.4253164556962026,2.443037974683544,2.460759493670886,2.4784810126582277,2.4962025316455696,2.5139240506329115,2.5316455696202533,2.5493670886075948,2.5670886075949366,2.5848101265822785,2.60253164556962,2.620253164556962,2.6379746835443036,2.6556962025316455,2.6734177215189874,2.6911392405063292,2.7088607594936707,2.7265822784810125,2.7443037974683544,2.762025316455696,2.7797468354430377,2.7974683544303796,2.8151898734177214,2.8329113924050633,2.850632911392405,2.8683544303797466,2.8860759493670884,2.9037974683544303,2.9215189873417717,2.9392405063291136,2.9569620253164555,2.9746835443037973,2.992405063291139,3.010126582278481,3.027848101265823,3.0455696202531644,3.0632911392405062,3.0810126582278476,3.0987341772151895,3.1164556962025314,3.1341772151898732,3.151898734177215,3.169620253164557,3.187341772151899,3.2050632911392403,3.222784810126582,3.2405063291139236,3.2582278481012654,3.2759493670886073,3.293670886075949,3.311392405063291,3.329113924050633,3.3468354430379748,3.364556962025316,3.382278481012658,3.3999999999999995,2.2,2.2202531645569623,2.2405063291139244,2.260759493670886,2.2810126582278483,2.3012658227848104,2.321518987341772,2.3417721518987342,2.3620253164556964,2.3822784810126585,2.4025316455696206,2.4227848101265823,2.4430379746835444,2.4632911392405066,2.4835443037974683,2.5037974683544304,2.5240506329113925,2.5443037974683547,2.564556962025317,2.5848101265822785,2.6050632911392406,2.6253164556962028,2.6455696202531644,2.6658227848101266,2.6860759493670887,2.706329113924051,2.726582278481013,2.7468354430379747,2.767088607594937,2.787341772151899,2.8075949367088606,2.8278481012658228,2.848101265822785,2.868354430379747,2.888607594936709,2.908860759493671,2.929113924050633,2.949367088607595,2.969620253164557,2.989873417721519,3.010126582278481,3.030379746835443,3.0506329113924053,3.070886075949367,3.091139240506329,3.1113924050632913,3.131645569620253,3.151898734177215,3.1721518987341772,3.1924050632911394,3.2126582278481015,3.232911392405063,3.2531645569620253,3.2734177215189875,3.293670886075949,3.3139240506329113,3.3341772151898734,3.3544303797468356,3.3746835443037977,3.3949367088607594,3.4151898734177215,3.4354430379746836,3.4556962025316453,3.4759493670886075,3.4962025316455696,3.5164556962025317,3.536708860759494,3.5569620253164556,3.5772151898734177,3.59746835443038,3.6177215189873415,3.6379746835443036,3.6582278481012658,3.678481012658228,3.69873417721519,3.7189873417721517,3.739240506329114,3.759493670886076,3.7797468354430377,3.8],\n",
       "\"Species\":[\"setosa\",\"setosa\",\"setosa\",\"setosa\",\"setosa\",\"setosa\",\"setosa\",\"setosa\",\"setosa\",\"setosa\",\"setosa\",\"setosa\",\"setosa\",\"setosa\",\"setosa\",\"setosa\",\"setosa\",\"setosa\",\"setosa\",\"setosa\",\"setosa\",\"setosa\",\"setosa\",\"setosa\",\"setosa\",\"setosa\",\"setosa\",\"setosa\",\"setosa\",\"setosa\",\"setosa\",\"setosa\",\"setosa\",\"setosa\",\"setosa\",\"setosa\",\"setosa\",\"setosa\",\"setosa\",\"setosa\",\"setosa\",\"setosa\",\"setosa\",\"setosa\",\"setosa\",\"setosa\",\"setosa\",\"setosa\",\"setosa\",\"setosa\",\"setosa\",\"setosa\",\"setosa\",\"setosa\",\"setosa\",\"setosa\",\"setosa\",\"setosa\",\"setosa\",\"setosa\",\"setosa\",\"setosa\",\"setosa\",\"setosa\",\"setosa\",\"setosa\",\"setosa\",\"setosa\",\"setosa\",\"setosa\",\"setosa\",\"setosa\",\"setosa\",\"setosa\",\"setosa\",\"setosa\",\"setosa\",\"setosa\",\"setosa\",\"setosa\",\"versicolor\",\"versicolor\",\"versicolor\",\"versicolor\",\"versicolor\",\"versicolor\",\"versicolor\",\"versicolor\",\"versicolor\",\"versicolor\",\"versicolor\",\"versicolor\",\"versicolor\",\"versicolor\",\"versicolor\",\"versicolor\",\"versicolor\",\"versicolor\",\"versicolor\",\"versicolor\",\"versicolor\",\"versicolor\",\"versicolor\",\"versicolor\",\"versicolor\",\"versicolor\",\"versicolor\",\"versicolor\",\"versicolor\",\"versicolor\",\"versicolor\",\"versicolor\",\"versicolor\",\"versicolor\",\"versicolor\",\"versicolor\",\"versicolor\",\"versicolor\",\"versicolor\",\"versicolor\",\"versicolor\",\"versicolor\",\"versicolor\",\"versicolor\",\"versicolor\",\"versicolor\",\"versicolor\",\"versicolor\",\"versicolor\",\"versicolor\",\"versicolor\",\"versicolor\",\"versicolor\",\"versicolor\",\"versicolor\",\"versicolor\",\"versicolor\",\"versicolor\",\"versicolor\",\"versicolor\",\"versicolor\",\"versicolor\",\"versicolor\",\"versicolor\",\"versicolor\",\"versicolor\",\"versicolor\",\"versicolor\",\"versicolor\",\"versicolor\",\"versicolor\",\"versicolor\",\"versicolor\",\"versicolor\",\"versicolor\",\"versicolor\",\"versicolor\",\"versicolor\",\"versicolor\",\"versicolor\",\"virginica\",\"virginica\",\"virginica\",\"virginica\",\"virginica\",\"virginica\",\"virginica\",\"virginica\",\"virginica\",\"virginica\",\"virginica\",\"virginica\",\"virginica\",\"virginica\",\"virginica\",\"virginica\",\"virginica\",\"virginica\",\"virginica\",\"virginica\",\"virginica\",\"virginica\",\"virginica\",\"virginica\",\"virginica\",\"virginica\",\"virginica\",\"virginica\",\"virginica\",\"virginica\",\"virginica\",\"virginica\",\"virginica\",\"virginica\",\"virginica\",\"virginica\",\"virginica\",\"virginica\",\"virginica\",\"virginica\",\"virginica\",\"virginica\",\"virginica\",\"virginica\",\"virginica\",\"virginica\",\"virginica\",\"virginica\",\"virginica\",\"virginica\",\"virginica\",\"virginica\",\"virginica\",\"virginica\",\"virginica\",\"virginica\",\"virginica\",\"virginica\",\"virginica\",\"virginica\",\"virginica\",\"virginica\",\"virginica\",\"virginica\",\"virginica\",\"virginica\",\"virginica\",\"virginica\",\"virginica\",\"virginica\",\"virginica\",\"virginica\",\"virginica\",\"virginica\",\"virginica\",\"virginica\",\"virginica\",\"virginica\",\"virginica\",\"virginica\"]\n",
       "},\n",
       "\"position\":\"identity\",\n",
       "\"geom\":\"smooth\"\n",
       "}]\n",
       "};\n",
       "           var plotContainer = document.getElementById(\"5okOt3\");\n",
       "           window.letsPlotCall(function() {{\n",
       "               LetsPlot.buildPlotFromProcessedSpecs(plotSpec, -1, -1, plotContainer);\n",
       "           }});\n",
       "       })();    \n",
       "   </script>"
      ]
     },
     "execution_count": 12,
     "metadata": {},
     "output_type": "execute_result"
    }
   ],
   "source": [
    "irisData.letsPlot{x=\"Sepal.Width\"; y=\"Sepal.Length\"; color=\"Species\"} + geomSmooth()"
   ]
  },
  {
   "cell_type": "code",
   "execution_count": null,
   "metadata": {},
   "outputs": [],
   "source": []
  }
 ],
 "metadata": {
  "kernelspec": {
   "display_name": "Kotlin",
   "language": "kotlin",
   "name": "kotlin"
  },
  "language_info": {
   "codemirror_mode": "text/x-kotlin",
   "file_extension": ".kt",
   "mimetype": "text/x-kotlin",
   "name": "kotlin",
   "nbconvert_exporter": "",
   "pygments_lexer": "kotlin",
   "version": "1.6.0-dev-903"
  }
 },
 "nbformat": 4,
 "nbformat_minor": 4
}